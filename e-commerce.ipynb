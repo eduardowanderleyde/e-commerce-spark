{
  "cells": [
    {
      "cell_type": "markdown",
      "metadata": {},
      "source": [
        "## 1. Definition of the Business Problem"
      ]
    },
    {
      "cell_type": "markdown",
      "metadata": {},
      "source": [
        "This is the foundation of the project. In this stage, we translate a company’s need into a clear objective for Data Science. We define what we want to solve (for example, automating the classification of product reviews), why it is important (to reduce costs, speed up decision-making), and how success will be measured.\n",
        "\n",
        "### Definition\n",
        "\n",
        "An e-commerce company wants to automate the analysis of customer feedback. Currently, the analysis is done manually, which is a slow, expensive process that doesn’t scale with the increasing volume of reviews received daily.\n",
        "\n",
        "### Objective\n",
        "\n",
        "Build a Machine Learning model that automatically classifies product reviews as ‘positive’ or ‘negative’.\n",
        "\n",
        "### Expected Benefits\n",
        "\n",
        "Efficiency: Reduce the time and cost of feedback analysis.\n",
        "\n",
        "Fast Decision-Making: Allow product and marketing teams to quickly identify products with issues or opportunities for improvement.\n",
        "\n",
        "Prioritization: Direct negative reviews to the customer support team with higher priority, improving the overall customer experience."
      ]
    },
    {
      "cell_type": "markdown",
      "metadata": {},
      "source": [
        "## 2. Importing the Packages"
      ]
    },
    {
      "cell_type": "code",
      "execution_count": 7,
      "metadata": {},
      "outputs": [
        {
          "name": "stderr",
          "output_type": "stream",
          "text": [
            "\n",
            "[notice] A new release of pip is available: 25.2 -> 25.3\n",
            "[notice] To update, run: C:\\Users\\Eduardo\\AppData\\Local\\Microsoft\\WindowsApps\\PythonSoftwareFoundation.Python.3.11_qbz5n2kfra8p0\\python.exe -m pip install --upgrade pip\n"
          ]
        }
      ],
      "source": [
        "# Install watermark package\n",
        "!pip install -q -U watermark"
      ]
    },
    {
      "cell_type": "code",
      "execution_count": 8,
      "metadata": {},
      "outputs": [
        {
          "name": "stdout",
          "output_type": "stream",
          "text": [
            "Requirement already satisfied: scikit-learn in c:\\users\\eduardo\\appdata\\local\\packages\\pythonsoftwarefoundation.python.3.11_qbz5n2kfra8p0\\localcache\\local-packages\\python311\\site-packages (1.7.2)\n",
            "Requirement already satisfied: numpy>=1.22.0 in c:\\users\\eduardo\\appdata\\local\\packages\\pythonsoftwarefoundation.python.3.11_qbz5n2kfra8p0\\localcache\\local-packages\\python311\\site-packages (from scikit-learn) (2.3.4)\n",
            "Requirement already satisfied: scipy>=1.8.0 in c:\\users\\eduardo\\appdata\\local\\packages\\pythonsoftwarefoundation.python.3.11_qbz5n2kfra8p0\\localcache\\local-packages\\python311\\site-packages (from scikit-learn) (1.16.2)\n",
            "Requirement already satisfied: joblib>=1.2.0 in c:\\users\\eduardo\\appdata\\local\\packages\\pythonsoftwarefoundation.python.3.11_qbz5n2kfra8p0\\localcache\\local-packages\\python311\\site-packages (from scikit-learn) (1.5.2)\n",
            "Requirement already satisfied: threadpoolctl>=3.1.0 in c:\\users\\eduardo\\appdata\\local\\packages\\pythonsoftwarefoundation.python.3.11_qbz5n2kfra8p0\\localcache\\local-packages\\python311\\site-packages (from scikit-learn) (3.6.0)\n"
          ]
        },
        {
          "name": "stderr",
          "output_type": "stream",
          "text": [
            "\n",
            "[notice] A new release of pip is available: 25.2 -> 25.3\n",
            "[notice] To update, run: C:\\Users\\Eduardo\\AppData\\Local\\Microsoft\\WindowsApps\\PythonSoftwareFoundation.Python.3.11_qbz5n2kfra8p0\\python.exe -m pip install --upgrade pip\n"
          ]
        }
      ],
      "source": [
        "!pip install -U scikit-learn\n"
      ]
    },
    {
      "cell_type": "code",
      "execution_count": 9,
      "metadata": {},
      "outputs": [],
      "source": [
        "# Data manipulation and visualization\n",
        "import re\n",
        "import pandas as pd\n",
        "import numpy as np\n",
        "import unicodedata\n",
        "import seaborn as sns\n",
        "import matplotlib.pyplot as plt\n",
        "\n",
        "# Preprocessing and Machine Learning\n",
        "from sklearn.model_selection import train_test_split, GridSearchCV\n",
        "from sklearn.preprocessing import StandardScaler\n",
        "from sklearn.feature_extraction.text import TfidfVectorizer\n",
        "from sklearn.linear_model import LogisticRegression\n",
        "from sklearn.pipeline import Pipeline\n",
        "from sklearn.metrics import accuracy_score, classification_report, confusion_matrix\n",
        "import joblib\n"
      ]
    },
    {
      "cell_type": "code",
      "execution_count": 10,
      "metadata": {},
      "outputs": [],
      "source": [
        "# View Configuration\n",
        "sns.set_style('whitegrid')\n",
        "%matplotlib inline"
      ]
    },
    {
      "cell_type": "code",
      "execution_count": 11,
      "metadata": {},
      "outputs": [
        {
          "name": "stdout",
          "output_type": "stream",
          "text": [
            "Author: Eduardo Data Science\n",
            "\n"
          ]
        }
      ],
      "source": [
        "%reload_ext watermark\n",
        "%watermark -a \"Eduardo Data Science\""
      ]
    },
    {
      "cell_type": "code",
      "execution_count": 12,
      "metadata": {},
      "outputs": [
        {
          "name": "stdout",
          "output_type": "stream",
          "text": [
            "pandas    : 2.3.1\n",
            "joblib    : 1.5.2\n",
            "matplotlib: 3.10.7\n",
            "seaborn   : 0.13.2\n",
            "numpy     : 2.3.4\n",
            "sklearn   : 1.7.2\n",
            "re        : 2.2.1\n",
            "\n"
          ]
        }
      ],
      "source": [
        "%watermark --iversions"
      ]
    },
    {
      "cell_type": "markdown",
      "metadata": {},
      "source": [
        "# Loading and Undestanding dataset"
      ]
    },
    {
      "cell_type": "code",
      "execution_count": 13,
      "metadata": {},
      "outputs": [],
      "source": [
        "dataset = 'sentiment.csv'"
      ]
    },
    {
      "cell_type": "code",
      "execution_count": 14,
      "metadata": {},
      "outputs": [
        {
          "name": "stderr",
          "output_type": "stream",
          "text": [
            "C:\\Users\\Eduardo\\AppData\\Local\\Temp\\ipykernel_13708\\3137060405.py:2: DtypeWarning: Columns (1,2) have mixed types. Specify dtype option on import or set low_memory=False.\n",
            "  df_dse = pd.read_csv(dataset, encoding=\"latin-1\")\n"
          ]
        }
      ],
      "source": [
        "# Loading and understanding data\n",
        "df_dse = pd.read_csv(dataset, encoding=\"latin-1\")"
      ]
    },
    {
      "cell_type": "code",
      "execution_count": 15,
      "metadata": {},
      "outputs": [
        {
          "data": {
            "text/plain": [
              "(171380, 6)"
            ]
          },
          "execution_count": 15,
          "metadata": {},
          "output_type": "execute_result"
        }
      ],
      "source": [
        "# Shape\n",
        "df_dse.shape"
      ]
    },
    {
      "cell_type": "markdown",
      "metadata": {},
      "source": [
        "significa que:\n",
        "-171.380 linhas → cada linha é um registro.\n",
        "-6 colunas → são as variáveis que descrevem cada review."
      ]
    },
    {
      "cell_type": "code",
      "execution_count": 16,
      "metadata": {},
      "outputs": [
        {
          "data": {
            "text/html": [
              "<div>\n",
              "<style scoped>\n",
              "    .dataframe tbody tr th:only-of-type {\n",
              "        vertical-align: middle;\n",
              "    }\n",
              "\n",
              "    .dataframe tbody tr th {\n",
              "        vertical-align: top;\n",
              "    }\n",
              "\n",
              "    .dataframe thead th {\n",
              "        text-align: right;\n",
              "    }\n",
              "</style>\n",
              "<table border=\"1\" class=\"dataframe\">\n",
              "  <thead>\n",
              "    <tr style=\"text-align: right;\">\n",
              "      <th></th>\n",
              "      <th>ProductName</th>\n",
              "      <th>ProductPrice</th>\n",
              "      <th>Rate</th>\n",
              "      <th>Review</th>\n",
              "      <th>Summary</th>\n",
              "      <th>Sentiment</th>\n",
              "    </tr>\n",
              "  </thead>\n",
              "  <tbody>\n",
              "    <tr>\n",
              "      <th>0</th>\n",
              "      <td>Candes 12 L Room/Personal Air Cooler??????(Whi...</td>\n",
              "      <td>3999</td>\n",
              "      <td>5</td>\n",
              "      <td>Super!</td>\n",
              "      <td>great cooler excellent air flow and for this p...</td>\n",
              "      <td>positive</td>\n",
              "    </tr>\n",
              "    <tr>\n",
              "      <th>1</th>\n",
              "      <td>Candes 12 L Room/Personal Air Cooler??????(Whi...</td>\n",
              "      <td>3999</td>\n",
              "      <td>5</td>\n",
              "      <td>Awesome</td>\n",
              "      <td>best budget 2 fit cooler nice cooling</td>\n",
              "      <td>positive</td>\n",
              "    </tr>\n",
              "    <tr>\n",
              "      <th>2</th>\n",
              "      <td>Candes 12 L Room/Personal Air Cooler??????(Whi...</td>\n",
              "      <td>3999</td>\n",
              "      <td>3</td>\n",
              "      <td>Fair</td>\n",
              "      <td>the quality is good but the power of air is de...</td>\n",
              "      <td>positive</td>\n",
              "    </tr>\n",
              "    <tr>\n",
              "      <th>3</th>\n",
              "      <td>Candes 12 L Room/Personal Air Cooler??????(Whi...</td>\n",
              "      <td>3999</td>\n",
              "      <td>1</td>\n",
              "      <td>Useless product</td>\n",
              "      <td>very bad product its a only a fan</td>\n",
              "      <td>negative</td>\n",
              "    </tr>\n",
              "    <tr>\n",
              "      <th>4</th>\n",
              "      <td>Candes 12 L Room/Personal Air Cooler??????(Whi...</td>\n",
              "      <td>3999</td>\n",
              "      <td>3</td>\n",
              "      <td>Fair</td>\n",
              "      <td>ok ok product</td>\n",
              "      <td>neutral</td>\n",
              "    </tr>\n",
              "  </tbody>\n",
              "</table>\n",
              "</div>"
            ],
            "text/plain": [
              "                                         ProductName ProductPrice Rate  \\\n",
              "0  Candes 12 L Room/Personal Air Cooler??????(Whi...         3999    5   \n",
              "1  Candes 12 L Room/Personal Air Cooler??????(Whi...         3999    5   \n",
              "2  Candes 12 L Room/Personal Air Cooler??????(Whi...         3999    3   \n",
              "3  Candes 12 L Room/Personal Air Cooler??????(Whi...         3999    1   \n",
              "4  Candes 12 L Room/Personal Air Cooler??????(Whi...         3999    3   \n",
              "\n",
              "            Review                                            Summary  \\\n",
              "0           Super!  great cooler excellent air flow and for this p...   \n",
              "1          Awesome              best budget 2 fit cooler nice cooling   \n",
              "2             Fair  the quality is good but the power of air is de...   \n",
              "3  Useless product                  very bad product its a only a fan   \n",
              "4             Fair                                      ok ok product   \n",
              "\n",
              "  Sentiment  \n",
              "0  positive  \n",
              "1  positive  \n",
              "2  positive  \n",
              "3  negative  \n",
              "4   neutral  "
            ]
          },
          "execution_count": 16,
          "metadata": {},
          "output_type": "execute_result"
        }
      ],
      "source": [
        "# First lines\n",
        "df_dse.head()"
      ]
    },
    {
      "cell_type": "markdown",
      "metadata": {},
      "source": [
        "ProductPrice and Rate are numeric, the rest is text"
      ]
    },
    {
      "cell_type": "markdown",
      "metadata": {},
      "source": [
        "Text pattern Some reviews have short words (“Super!”, “Nice”), others long sentences — preprocessing will need to normalize this"
      ]
    },
    {
      "cell_type": "code",
      "execution_count": 17,
      "metadata": {},
      "outputs": [
        {
          "data": {
            "text/html": [
              "<div>\n",
              "<style scoped>\n",
              "    .dataframe tbody tr th:only-of-type {\n",
              "        vertical-align: middle;\n",
              "    }\n",
              "\n",
              "    .dataframe tbody tr th {\n",
              "        vertical-align: top;\n",
              "    }\n",
              "\n",
              "    .dataframe thead th {\n",
              "        text-align: right;\n",
              "    }\n",
              "</style>\n",
              "<table border=\"1\" class=\"dataframe\">\n",
              "  <thead>\n",
              "    <tr style=\"text-align: right;\">\n",
              "      <th></th>\n",
              "      <th>ProductName</th>\n",
              "      <th>ProductPrice</th>\n",
              "      <th>Rate</th>\n",
              "      <th>Review</th>\n",
              "      <th>Summary</th>\n",
              "      <th>Sentiment</th>\n",
              "    </tr>\n",
              "  </thead>\n",
              "  <tbody>\n",
              "    <tr>\n",
              "      <th>56379</th>\n",
              "      <td>Women Regular Fit White Viscose Rayon Trousers</td>\n",
              "      <td>349</td>\n",
              "      <td>4</td>\n",
              "      <td>Nan</td>\n",
              "      <td>best in market</td>\n",
              "      <td>positive</td>\n",
              "    </tr>\n",
              "    <tr>\n",
              "      <th>18541</th>\n",
              "      <td>Seagate One Touch with Password Protection for...</td>\n",
              "      <td>4449</td>\n",
              "      <td>5</td>\n",
              "      <td>Perfect product!</td>\n",
              "      <td>bought 5tb onetouch actual storage available 4...</td>\n",
              "      <td>positive</td>\n",
              "    </tr>\n",
              "    <tr>\n",
              "      <th>130323</th>\n",
              "      <td>POCO C31 (Royal Blue, 64 GB)?ÃÂÃÂÃÂÃÂ?...</td>\n",
              "      <td>7499</td>\n",
              "      <td>5</td>\n",
              "      <td>Highly recommended</td>\n",
              "      <td>great to receive the product within 1day</td>\n",
              "      <td>positive</td>\n",
              "    </tr>\n",
              "    <tr>\n",
              "      <th>81225</th>\n",
              "      <td>Fab Electric Multifunction Cooking Pot 1.5 Lit...</td>\n",
              "      <td>607</td>\n",
              "      <td>3</td>\n",
              "      <td>Just okay</td>\n",
              "      <td>nicestill quality are not good but give good s...</td>\n",
              "      <td>negative</td>\n",
              "    </tr>\n",
              "    <tr>\n",
              "      <th>17097</th>\n",
              "      <td>Pigeon Favourite Electric Kettle??????(1.5 L, ...</td>\n",
              "      <td>699</td>\n",
              "      <td>4</td>\n",
              "      <td>Delightful</td>\n",
              "      <td>good</td>\n",
              "      <td>positive</td>\n",
              "    </tr>\n",
              "    <tr>\n",
              "      <th>95200</th>\n",
              "      <td>AutoKraftZ Most Popular Sun UV Protection Arm ...</td>\n",
              "      <td>ÃÂ¢ÃÂÃÂ¹129</td>\n",
              "      <td>3</td>\n",
              "      <td>Decent product</td>\n",
              "      <td>Average quality</td>\n",
              "      <td>Neutral</td>\n",
              "    </tr>\n",
              "    <tr>\n",
              "      <th>110509</th>\n",
              "      <td>Men Black Sandal</td>\n",
              "      <td>299</td>\n",
              "      <td>1</td>\n",
              "      <td>Nan</td>\n",
              "      <td>very very low quality</td>\n",
              "      <td>negative</td>\n",
              "    </tr>\n",
              "    <tr>\n",
              "      <th>143186</th>\n",
              "      <td>TP-Link Archer C20 AC WiFi 750 MBPS Wireless R...</td>\n",
              "      <td>1599.0</td>\n",
              "      <td>5.0</td>\n",
              "      <td>Must buy!</td>\n",
              "      <td>good</td>\n",
              "      <td>positive</td>\n",
              "    </tr>\n",
              "    <tr>\n",
              "      <th>95073</th>\n",
              "      <td>AutoKraftZ Most Popular Sun UV Protection Arm ...</td>\n",
              "      <td>ÃÂ¢ÃÂÃÂ¹129</td>\n",
              "      <td>3</td>\n",
              "      <td>Decent product</td>\n",
              "      <td>Bad product</td>\n",
              "      <td>Negative</td>\n",
              "    </tr>\n",
              "    <tr>\n",
              "      <th>48979</th>\n",
              "      <td>Men Solid Single Breasted Festive, Party, Wedd...</td>\n",
              "      <td>1839</td>\n",
              "      <td>1</td>\n",
              "      <td>Nan</td>\n",
              "      <td>very bad</td>\n",
              "      <td>negative</td>\n",
              "    </tr>\n",
              "  </tbody>\n",
              "</table>\n",
              "</div>"
            ],
            "text/plain": [
              "                                              ProductName     ProductPrice  \\\n",
              "56379      Women Regular Fit White Viscose Rayon Trousers              349   \n",
              "18541   Seagate One Touch with Password Protection for...             4449   \n",
              "130323  POCO C31 (Royal Blue, 64 GB)?ÃÂÃÂÃÂÃÂ?...             7499   \n",
              "81225   Fab Electric Multifunction Cooking Pot 1.5 Lit...              607   \n",
              "17097   Pigeon Favourite Electric Kettle??????(1.5 L, ...              699   \n",
              "95200   AutoKraftZ Most Popular Sun UV Protection Arm ...  ÃÂ¢ÃÂÃÂ¹129   \n",
              "110509                                   Men Black Sandal              299   \n",
              "143186  TP-Link Archer C20 AC WiFi 750 MBPS Wireless R...           1599.0   \n",
              "95073   AutoKraftZ Most Popular Sun UV Protection Arm ...  ÃÂ¢ÃÂÃÂ¹129   \n",
              "48979   Men Solid Single Breasted Festive, Party, Wedd...             1839   \n",
              "\n",
              "       Rate              Review  \\\n",
              "56379     4                 Nan   \n",
              "18541     5    Perfect product!   \n",
              "130323    5  Highly recommended   \n",
              "81225     3           Just okay   \n",
              "17097     4          Delightful   \n",
              "95200     3      Decent product   \n",
              "110509    1                 Nan   \n",
              "143186  5.0           Must buy!   \n",
              "95073     3      Decent product   \n",
              "48979     1                 Nan   \n",
              "\n",
              "                                                  Summary Sentiment  \n",
              "56379                                      best in market  positive  \n",
              "18541   bought 5tb onetouch actual storage available 4...  positive  \n",
              "130323           great to receive the product within 1day  positive  \n",
              "81225   nicestill quality are not good but give good s...  negative  \n",
              "17097                                                good  positive  \n",
              "95200                                     Average quality   Neutral  \n",
              "110509                              very very low quality  negative  \n",
              "143186                                               good  positive  \n",
              "95073                                         Bad product  Negative  \n",
              "48979                                            very bad  negative  "
            ]
          },
          "execution_count": 17,
          "metadata": {},
          "output_type": "execute_result"
        }
      ],
      "source": [
        "# sample dataset\n",
        "df_dse.sample(10)"
      ]
    },
    {
      "cell_type": "markdown",
      "metadata": {},
      "source": [
        "### 4. Exploratory Data Analysis (EDA)"
      ]
    },
    {
      "cell_type": "code",
      "execution_count": 18,
      "metadata": {},
      "outputs": [
        {
          "name": "stdout",
          "output_type": "stream",
          "text": [
            "<class 'pandas.core.frame.DataFrame'>\n",
            "RangeIndex: 171380 entries, 0 to 171379\n",
            "Data columns (total 6 columns):\n",
            " #   Column        Non-Null Count   Dtype \n",
            "---  ------        --------------   ----- \n",
            " 0   ProductName   171380 non-null  object\n",
            " 1   ProductPrice  171379 non-null  object\n",
            " 2   Rate          171379 non-null  object\n",
            " 3   Review        171379 non-null  object\n",
            " 4   Summary       171379 non-null  object\n",
            " 5   Sentiment     171379 non-null  object\n",
            "dtypes: object(6)\n",
            "memory usage: 7.8+ MB\n"
          ]
        }
      ],
      "source": [
        "# Info\n",
        "df_dse.info()"
      ]
    },
    {
      "cell_type": "markdown",
      "metadata": {},
      "source": [
        "-Data type: all object (i.e. text/string)\n",
        "\n",
        "-Tipo de dados: todos os objetos (por exemplo, texto/string)"
      ]
    },
    {
      "cell_type": "code",
      "execution_count": 19,
      "metadata": {},
      "outputs": [
        {
          "name": "stdout",
          "output_type": "stream",
          "text": [
            "\n",
            "Checking for missing values:\n",
            "\n",
            "ProductName     0\n",
            "ProductPrice    1\n",
            "Rate            1\n",
            "Review          1\n",
            "Summary         1\n",
            "Sentiment       1\n",
            "dtype: int64\n"
          ]
        }
      ],
      "source": [
        "print(\"\\nChecking for missing values:\\n\")\n",
        "print(df_dse.isnull().sum())"
      ]
    },
    {
      "cell_type": "code",
      "execution_count": 20,
      "metadata": {},
      "outputs": [
        {
          "name": "stdout",
          "output_type": "stream",
          "text": [
            "\n",
            "Distribution of Feelings:\n",
            "\n"
          ]
        },
        {
          "data": {
            "image/png": "[encoded data removed]",
            "text/plain": [
              "<Figure size 640x480 with 1 Axes>"
            ]
          },
          "metadata": {},
          "output_type": "display_data"
        }
      ],
      "source": [
        "print(\"\\nDistribution of Feelings:\\n\")\n",
        "sns.countplot(x='Sentiment', data=df_dse)\n",
        "plt.title('Distribution of Sentiment Classes')\n",
        "plt.show()\n"
      ]
    },
    {
      "cell_type": "markdown",
      "metadata": {},
      "source": [
        "### 5 - Data Cleaning"
      ]
    },
    {
      "cell_type": "code",
      "execution_count": 21,
      "metadata": {},
      "outputs": [
        {
          "name": "stdout",
          "output_type": "stream",
          "text": [
            "\n",
            "Tamanho original do DataFrame: 171380\n",
            "Tamanho do DataFrame após remover nulos: 171379\n"
          ]
        }
      ],
      "source": [
        "# Remover linhas com valores ausentes\n",
        "print(f\"\\nTamanho original do DataFrame: {len(df_dse)}\")\n",
        "df_dse.dropna(subset=['Review'], inplace=True)\n",
        "print(f\"Tamanho do DataFrame após remover nulos: {len(df_dse)}\")\n"
      ]
    },
    {
      "cell_type": "code",
      "execution_count": 22,
      "metadata": {},
      "outputs": [
        {
          "data": {
            "text/plain": [
              "(171379, 6)"
            ]
          },
          "execution_count": 22,
          "metadata": {},
          "output_type": "execute_result"
        }
      ],
      "source": [
        "df_dse.shape\n"
      ]
    },
    {
      "cell_type": "markdown",
      "metadata": {},
      "source": [
        "Normalize sentiment labels"
      ]
    },
    {
      "cell_type": "code",
      "execution_count": 23,
      "metadata": {},
      "outputs": [
        {
          "data": {
            "text/plain": [
              "Sentiment\n",
              "positive    111122\n",
              "negative     46119\n",
              "neutral      14138\n",
              "Name: count, dtype: int64"
            ]
          },
          "execution_count": 23,
          "metadata": {},
          "output_type": "execute_result"
        }
      ],
      "source": [
        "# Standardize the values ​​of the 'Sentiment' column\n",
        "df_dse['Sentiment'] = df_dse['Sentiment'].str.lower().str.strip()\n",
        "df_dse['Sentiment'].value_counts()\n"
      ]
    },
    {
      "cell_type": "markdown",
      "metadata": {},
      "source": [
        "Thus, all categories are in lowercase (positive, negative, neutral)."
      ]
    },
    {
      "cell_type": "markdown",
      "metadata": {},
      "source": [
        "## Convert Numeric Columns\n",
        "\n",
        "### Currently, ProductPrice and Rate are text (object).\n",
        "Convert to numeric safely:"
      ]
    },
    {
      "cell_type": "code",
      "execution_count": 24,
      "metadata": {},
      "outputs": [],
      "source": [
        "df_dse['ProductPrice'] = pd.to_numeric(df_dse['ProductPrice'], errors='coerce')\n",
        "df_dse['Rate'] = pd.to_numeric(df_dse['Rate'], errors='coerce')\n"
      ]
    },
    {
      "cell_type": "code",
      "execution_count": 25,
      "metadata": {},
      "outputs": [
        {
          "data": {
            "text/plain": [
              "ProductName      object\n",
              "ProductPrice    float64\n",
              "Rate            float64\n",
              "Review           object\n",
              "Summary          object\n",
              "Sentiment        object\n",
              "dtype: object"
            ]
          },
          "execution_count": 25,
          "metadata": {},
          "output_type": "execute_result"
        }
      ],
      "source": [
        "df_dse.dtypes\n"
      ]
    },
    {
      "cell_type": "markdown",
      "metadata": {},
      "source": [
        "## Text cleaning"
      ]
    },
    {
      "cell_type": "code",
      "execution_count": 26,
      "metadata": {},
      "outputs": [],
      "source": [
        "\n",
        "# Text cleaning function\n",
        "def dse_cleaning_text(text):\n",
        "    \"\"\"\n",
        "    Complete text cleaning function:\n",
        "    1. Convert to lowercase.\n",
        "    2. Remove signals and cedillas.\n",
        "    3. Remove punctuation, numbers, and special characters.\n",
        "    4. Remove extra spaces.\n",
        "    \"\"\"\n",
        "\n",
        "    # Ensures the text is not null (if there are any NaN characters in the DataFrame)\n",
        "    if not isinstance(text, str):\n",
        "        return \"\"\n",
        "\n",
        "    # ---- STEP 1: Normalize and remove accents ----\n",
        "    # Normalize to the 'NFKD' form that separates the character from the accent mark\n",
        "    # and then remove the signals (Nonspacing Mark)\n",
        "    text_without_signals = ''.join(c for c in unicodedata.normalize('NFKD', text) if unicodedata.category(c) != 'Mn')\n",
        "\n",
        "    # ---- STEP 2: Cleanup with Regex ----\n",
        "    # Convert to lowercase\n",
        "    text_clear = text_without_signals.lower()\n",
        "\n",
        "    # Keep only letters and spaces. signals have already been removed.\n",
        "    text_clear = re.sub(r'[^a-z\\s]', '', text_clear)\n",
        "\n",
        "    # Remove extra spaces\n",
        "    text_clear = re.sub(r'\\s+', ' ', text_clear).strip()\n",
        "\n",
        "    return text_clear\n"
      ]
    },
    {
      "cell_type": "markdown",
      "metadata": {},
      "source": [
        "- Apply the function to the DataFrame"
      ]
    },
    {
      "cell_type": "code",
      "execution_count": 27,
      "metadata": {},
      "outputs": [],
      "source": [
        "df_dse['Clean_Review'] = df_dse['Review'].apply(dse_cleaning_text)"
      ]
    },
    {
      "cell_type": "code",
      "execution_count": null,
      "metadata": {},
      "outputs": [],
      "source": [
        "\n"
      ]
    },
    {
      "cell_type": "markdown",
      "metadata": {},
      "source": [
        "This defaults all text to lowercase, no accents, no numbers, no punctuation."
      ]
    },
    {
      "cell_type": "markdown",
      "metadata": {},
      "source": [
        "Check class distribution"
      ]
    },
    {
      "cell_type": "code",
      "execution_count": 28,
      "metadata": {},
      "outputs": [
        {
          "data": {
            "image/png": "[encoded data removed]",
            "text/plain": [
              "<Figure size 640x480 with 1 Axes>"
            ]
          },
          "metadata": {},
          "output_type": "display_data"
        }
      ],
      "source": [
        "sns.countplot(x='Sentiment', data=df_dse)\n",
        "plt.title('Distribution of Sentiment Classes (normalized)')\n",
        "plt.show()\n"
      ]
    },
    {
      "cell_type": "markdown",
      "metadata": {},
      "source": [
        "Explore text patterns"
      ]
    },
    {
      "cell_type": "code",
      "execution_count": 29,
      "metadata": {},
      "outputs": [
        {
          "data": {
            "text/plain": [
              "count    171379.000000\n",
              "mean         11.220645\n",
              "std           6.114572\n",
              "min           0.000000\n",
              "25%           8.000000\n",
              "50%          10.000000\n",
              "75%          15.000000\n",
              "max         137.000000\n",
              "Name: text_length, dtype: float64"
            ]
          },
          "execution_count": 29,
          "metadata": {},
          "output_type": "execute_result"
        }
      ],
      "source": [
        "df_dse['text_length'] = df_dse['Clean_Review'].apply(len)\n",
        "df_dse['text_length'].describe()\n"
      ]
    },
    {
      "cell_type": "markdown",
      "metadata": {},
      "source": [
        "## 6 - Feature Engineering\n"
      ]
    },
    {
      "cell_type": "code",
      "execution_count": 30,
      "metadata": {},
      "outputs": [
        {
          "data": {
            "text/html": [
              "<div>\n",
              "<style scoped>\n",
              "    .dataframe tbody tr th:only-of-type {\n",
              "        vertical-align: middle;\n",
              "    }\n",
              "\n",
              "    .dataframe tbody tr th {\n",
              "        vertical-align: top;\n",
              "    }\n",
              "\n",
              "    .dataframe thead th {\n",
              "        text-align: right;\n",
              "    }\n",
              "</style>\n",
              "<table border=\"1\" class=\"dataframe\">\n",
              "  <thead>\n",
              "    <tr style=\"text-align: right;\">\n",
              "      <th></th>\n",
              "      <th>ProductName</th>\n",
              "      <th>ProductPrice</th>\n",
              "      <th>Rate</th>\n",
              "      <th>Review</th>\n",
              "      <th>Summary</th>\n",
              "      <th>Sentiment</th>\n",
              "      <th>Clean_Review</th>\n",
              "      <th>text_length</th>\n",
              "    </tr>\n",
              "  </thead>\n",
              "  <tbody>\n",
              "    <tr>\n",
              "      <th>0</th>\n",
              "      <td>Candes 12 L Room/Personal Air Cooler??????(Whi...</td>\n",
              "      <td>3999.0</td>\n",
              "      <td>5.0</td>\n",
              "      <td>Super!</td>\n",
              "      <td>great cooler excellent air flow and for this p...</td>\n",
              "      <td>positive</td>\n",
              "      <td>super</td>\n",
              "      <td>5</td>\n",
              "    </tr>\n",
              "    <tr>\n",
              "      <th>1</th>\n",
              "      <td>Candes 12 L Room/Personal Air Cooler??????(Whi...</td>\n",
              "      <td>3999.0</td>\n",
              "      <td>5.0</td>\n",
              "      <td>Awesome</td>\n",
              "      <td>best budget 2 fit cooler nice cooling</td>\n",
              "      <td>positive</td>\n",
              "      <td>awesome</td>\n",
              "      <td>7</td>\n",
              "    </tr>\n",
              "    <tr>\n",
              "      <th>2</th>\n",
              "      <td>Candes 12 L Room/Personal Air Cooler??????(Whi...</td>\n",
              "      <td>3999.0</td>\n",
              "      <td>3.0</td>\n",
              "      <td>Fair</td>\n",
              "      <td>the quality is good but the power of air is de...</td>\n",
              "      <td>positive</td>\n",
              "      <td>fair</td>\n",
              "      <td>4</td>\n",
              "    </tr>\n",
              "    <tr>\n",
              "      <th>3</th>\n",
              "      <td>Candes 12 L Room/Personal Air Cooler??????(Whi...</td>\n",
              "      <td>3999.0</td>\n",
              "      <td>1.0</td>\n",
              "      <td>Useless product</td>\n",
              "      <td>very bad product its a only a fan</td>\n",
              "      <td>negative</td>\n",
              "      <td>useless product</td>\n",
              "      <td>15</td>\n",
              "    </tr>\n",
              "    <tr>\n",
              "      <th>4</th>\n",
              "      <td>Candes 12 L Room/Personal Air Cooler??????(Whi...</td>\n",
              "      <td>3999.0</td>\n",
              "      <td>3.0</td>\n",
              "      <td>Fair</td>\n",
              "      <td>ok ok product</td>\n",
              "      <td>neutral</td>\n",
              "      <td>fair</td>\n",
              "      <td>4</td>\n",
              "    </tr>\n",
              "  </tbody>\n",
              "</table>\n",
              "</div>"
            ],
            "text/plain": [
              "                                         ProductName  ProductPrice  Rate  \\\n",
              "0  Candes 12 L Room/Personal Air Cooler??????(Whi...        3999.0   5.0   \n",
              "1  Candes 12 L Room/Personal Air Cooler??????(Whi...        3999.0   5.0   \n",
              "2  Candes 12 L Room/Personal Air Cooler??????(Whi...        3999.0   3.0   \n",
              "3  Candes 12 L Room/Personal Air Cooler??????(Whi...        3999.0   1.0   \n",
              "4  Candes 12 L Room/Personal Air Cooler??????(Whi...        3999.0   3.0   \n",
              "\n",
              "            Review                                            Summary  \\\n",
              "0           Super!  great cooler excellent air flow and for this p...   \n",
              "1          Awesome              best budget 2 fit cooler nice cooling   \n",
              "2             Fair  the quality is good but the power of air is de...   \n",
              "3  Useless product                  very bad product its a only a fan   \n",
              "4             Fair                                      ok ok product   \n",
              "\n",
              "  Sentiment     Clean_Review  text_length  \n",
              "0  positive            super            5  \n",
              "1  positive          awesome            7  \n",
              "2  positive             fair            4  \n",
              "3  negative  useless product           15  \n",
              "4   neutral             fair            4  "
            ]
          },
          "execution_count": 30,
          "metadata": {},
          "output_type": "execute_result"
        }
      ],
      "source": [
        "df_dse.head()"
      ]
    },
    {
      "cell_type": "code",
      "execution_count": 31,
      "metadata": {},
      "outputs": [],
      "source": [
        "\n",
        "# Map sentiments to numeric values\n",
        "df_dse['sentiment_label'] = df_dse['Sentiment'].map({'positive': 1,'negative': 0})"
      ]
    },
    {
      "cell_type": "code",
      "execution_count": 49,
      "metadata": {},
      "outputs": [
        {
          "name": "stdout",
          "output_type": "stream",
          "text": [
            "DataFrame size after removing neutrals: 157241\n"
          ]
        },
        {
          "data": {
            "text/plain": [
              "sentiment_label\n",
              "1.0    111122\n",
              "0.0     46119\n",
              "Name: count, dtype: int64"
            ]
          },
          "execution_count": 49,
          "metadata": {},
          "output_type": "execute_result"
        }
      ],
      "source": [
        "# Remove rows where sentiment_label is NaN (neutral cases)\n",
        "df_dse = df_dse.dropna(subset=['sentiment_label'])\n",
        "\n",
        "print(f\"DataFrame size after removing neutrals: {len(df_dse)}\")\n",
        "df_dse['sentiment_label'].value_counts()\n"
      ]
    },
    {
      "cell_type": "code",
      "execution_count": 51,
      "metadata": {},
      "outputs": [
        {
          "name": "stdout",
          "output_type": "stream",
          "text": [
            "\n",
            "DataFrame after mapping:\n"
          ]
        },
        {
          "data": {
            "text/html": [
              "<div>\n",
              "<style scoped>\n",
              "    .dataframe tbody tr th:only-of-type {\n",
              "        vertical-align: middle;\n",
              "    }\n",
              "\n",
              "    .dataframe tbody tr th {\n",
              "        vertical-align: top;\n",
              "    }\n",
              "\n",
              "    .dataframe thead th {\n",
              "        text-align: right;\n",
              "    }\n",
              "</style>\n",
              "<table border=\"1\" class=\"dataframe\">\n",
              "  <thead>\n",
              "    <tr style=\"text-align: right;\">\n",
              "      <th></th>\n",
              "      <th>Summary</th>\n",
              "      <th>sentiment_label</th>\n",
              "      <th>Sentiment</th>\n",
              "    </tr>\n",
              "  </thead>\n",
              "  <tbody>\n",
              "    <tr>\n",
              "      <th>0</th>\n",
              "      <td>great cooler excellent air flow and for this p...</td>\n",
              "      <td>1.0</td>\n",
              "      <td>positive</td>\n",
              "    </tr>\n",
              "    <tr>\n",
              "      <th>1</th>\n",
              "      <td>best budget 2 fit cooler nice cooling</td>\n",
              "      <td>1.0</td>\n",
              "      <td>positive</td>\n",
              "    </tr>\n",
              "    <tr>\n",
              "      <th>2</th>\n",
              "      <td>the quality is good but the power of air is de...</td>\n",
              "      <td>1.0</td>\n",
              "      <td>positive</td>\n",
              "    </tr>\n",
              "    <tr>\n",
              "      <th>3</th>\n",
              "      <td>very bad product its a only a fan</td>\n",
              "      <td>0.0</td>\n",
              "      <td>negative</td>\n",
              "    </tr>\n",
              "    <tr>\n",
              "      <th>5</th>\n",
              "      <td>the cooler is really fantastic and provides go...</td>\n",
              "      <td>1.0</td>\n",
              "      <td>positive</td>\n",
              "    </tr>\n",
              "  </tbody>\n",
              "</table>\n",
              "</div>"
            ],
            "text/plain": [
              "                                             Summary  sentiment_label  \\\n",
              "0  great cooler excellent air flow and for this p...              1.0   \n",
              "1              best budget 2 fit cooler nice cooling              1.0   \n",
              "2  the quality is good but the power of air is de...              1.0   \n",
              "3                  very bad product its a only a fan              0.0   \n",
              "5  the cooler is really fantastic and provides go...              1.0   \n",
              "\n",
              "  Sentiment  \n",
              "0  positive  \n",
              "1  positive  \n",
              "2  positive  \n",
              "3  negative  \n",
              "5  positive  "
            ]
          },
          "execution_count": 51,
          "metadata": {},
          "output_type": "execute_result"
        }
      ],
      "source": [
        "\n",
        "print(\"\\nDataFrame after mapping:\")\n",
        "df_dse[['Summary', 'sentiment_label','Sentiment']].head()\n"
      ]
    },
    {
      "cell_type": "code",
      "execution_count": 52,
      "metadata": {},
      "outputs": [],
      "source": [
        "# Define features (X) and target (y)\n",
        "X = df_dse['Summary']\n",
        "y = df_dse['sentiment_label']"
      ]
    },
    {
      "cell_type": "code",
      "execution_count": 53,
      "metadata": {},
      "outputs": [],
      "source": [
        "# Stratified Split\n",
        "X_train, X_test, y_train, y_test = train_test_split(\n",
        "    X, y,\n",
        "    test_size=0.25,\n",
        "    random_state=42,\n",
        "    stratify=y\n",
        ")"
      ]
    },
    {
      "cell_type": "markdown",
      "metadata": {},
      "source": [
        "## 7. Predictive Modeling Pipeline"
      ]
    },
    {
      "cell_type": "code",
      "execution_count": 54,
      "metadata": {},
      "outputs": [],
      "source": [
        "# Define pipeline\n",
        "pipeline = Pipeline([\n",
        "    ('tfidf', TfidfVectorizer(stop_words=['de', 'a', 'o', 'que', 'e', 'do', 'da', 'em', 'um'])),\n",
        "    ('scaler', StandardScaler(with_mean=False)),\n",
        "    ('logreg', LogisticRegression(solver='liblinear', random_state=42, max_iter=1000))\n",
        "])\n"
      ]
    },
    {
      "cell_type": "markdown",
      "metadata": {},
      "source": [
        "### 7.1 Hyperparameter grid (lean and efficient)"
      ]
    },
    {
      "cell_type": "code",
      "execution_count": 55,
      "metadata": {},
      "outputs": [],
      "source": [
        "from sklearn.model_selection import GridSearchCV"
      ]
    },
    {
      "cell_type": "code",
      "execution_count": 56,
      "metadata": {},
      "outputs": [],
      "source": [
        "param_grid = {\n",
        "    'tfidf__max_features': [20000, 50000],      # tamanho do vocabulário\n",
        "    'tfidf__ngram_range': [(1,1), (1,2)],       # uni/bi-gramas\n",
        "    'tfidf__min_df': [2, 5],                    # filtra termos muito raros\n",
        "    'tfidf__max_df': [0.9, 1.0],                # filtra termos muito frequentes\n",
        "    'tfidf__use_idf': [True, False],\n",
        "    'tfidf__sublinear_tf': [True],              # log-scaling no tf\n",
        "\n",
        "    'logreg__C': [0.5, 1.0, 2.0],               # regularização\n",
        "    'logreg__penalty': ['l1', 'l2'],            # com solver liblinear\n",
        "    'logreg__class_weight': ['balanced']        # corrige desbalanceamento\n",
        "}\n"
      ]
    },
    {
      "cell_type": "code",
      "execution_count": 57,
      "metadata": {},
      "outputs": [],
      "source": [
        "\n",
        "grid_search = GridSearchCV(\n",
        "    estimator=pipeline,\n",
        "    param_grid=param_grid,\n",
        "    cv=5,\n",
        "    n_jobs = -1,\n",
        "    scoring = 'accuracy',\n",
        "    verbose = 1\n",
        ")"
      ]
    },
    {
      "cell_type": "markdown",
      "metadata": {},
      "source": [
        "### Training Model"
      ]
    },
    {
      "cell_type": "code",
      "execution_count": null,
      "metadata": {},
      "outputs": [
        {
          "name": "stdout",
          "output_type": "stream",
          "text": [
            "Fitting 5 folds for each of 192 candidates, totalling 960 fits\n"
          ]
        }
      ],
      "source": [
        "grid_search.fit(X_train, y_train)"
      ]
    }
  ],
  "metadata": {
    "kernelspec": {
      "display_name": "Python 3",
      "language": "python",
      "name": "python3"
    },
    "language_info": {
      "codemirror_mode": {
        "name": "ipython",
        "version": 3
      },
      "file_extension": ".py",
      "mimetype": "text/x-python",
      "name": "python",
      "nbconvert_exporter": "python",
      "pygments_lexer": "ipython3",
      "version": "3.11.9"
    }
  },
  "nbformat": 4,
  "nbformat_minor": 2
}
