{
  "cells": [
    {
      "cell_type": "markdown",
      "metadata": {},
      "source": [
        "## 1. Definition of the Business Problem"
      ]
    },
    {
      "cell_type": "markdown",
      "metadata": {},
      "source": [
        "This is the foundation of the project. In this stage, we translate a company’s need into a clear objective for Data Science. We define what we want to solve (for example, automating the classification of product reviews), why it is important (to reduce costs, speed up decision-making), and how success will be measured.\n",
        "\n",
        "### Definition\n",
        "\n",
        "An e-commerce company wants to automate the analysis of customer feedback. Currently, the analysis is done manually, which is a slow, expensive process that doesn’t scale with the increasing volume of reviews received daily.\n",
        "\n",
        "### Objective\n",
        "\n",
        "Build a Machine Learning model that automatically classifies product reviews as ‘positive’ or ‘negative’.\n",
        "\n",
        "### Expected Benefits\n",
        "\n",
        "Efficiency: Reduce the time and cost of feedback analysis.\n",
        "\n",
        "Fast Decision-Making: Allow product and marketing teams to quickly identify products with issues or opportunities for improvement.\n",
        "\n",
        "Prioritization: Direct negative reviews to the customer support team with higher priority, improving the overall customer experience."
      ]
    },
    {
      "cell_type": "markdown",
      "metadata": {},
      "source": [
        "## 2. Importing the Packages"
      ]
    },
    {
      "cell_type": "code",
      "execution_count": 3,
      "metadata": {},
      "outputs": [],
      "source": [
        "# Install watermark package\n",
        "!pip install -q -U watermark\n"
      ]
    },
    {
      "cell_type": "code",
      "execution_count": 5,
      "metadata": {},
      "outputs": [
        {
          "name": "stdout",
          "output_type": "stream",
          "text": [
            "Collecting scikit-learn\n",
            "  Downloading scikit_learn-1.7.2-cp311-cp311-win_amd64.whl.metadata (11 kB)\n",
            "Requirement already satisfied: numpy>=1.22.0 in c:\\users\\eduardo\\appdata\\local\\packages\\pythonsoftwarefoundation.python.3.11_qbz5n2kfra8p0\\localcache\\local-packages\\python311\\site-packages (from scikit-learn) (2.3.4)\n",
            "Requirement already satisfied: scipy>=1.8.0 in c:\\users\\eduardo\\appdata\\local\\packages\\pythonsoftwarefoundation.python.3.11_qbz5n2kfra8p0\\localcache\\local-packages\\python311\\site-packages (from scikit-learn) (1.16.2)\n",
            "Collecting joblib>=1.2.0 (from scikit-learn)\n",
            "  Downloading joblib-1.5.2-py3-none-any.whl.metadata (5.6 kB)\n",
            "Collecting threadpoolctl>=3.1.0 (from scikit-learn)\n",
            "  Downloading threadpoolctl-3.6.0-py3-none-any.whl.metadata (13 kB)\n",
            "Downloading scikit_learn-1.7.2-cp311-cp311-win_amd64.whl (8.9 MB)\n",
            "   ---------------------------------------- 0.0/8.9 MB ? eta -:--:--\n",
            "   -- ------------------------------------- 0.5/8.9 MB 5.6 MB/s eta 0:00:02\n",
            "   --------------------------------- ------ 7.3/8.9 MB 23.8 MB/s eta 0:00:01\n",
            "   ---------------------------------- ----- 7.6/8.9 MB 23.5 MB/s eta 0:00:01\n",
            "   ----------------------------------- ---- 7.9/8.9 MB 10.3 MB/s eta 0:00:01\n",
            "   ------------------------------------ --- 8.1/8.9 MB 9.0 MB/s eta 0:00:01\n",
            "   -------------------------------------- - 8.7/8.9 MB 7.9 MB/s eta 0:00:01\n",
            "   ---------------------------------------- 8.9/8.9 MB 7.0 MB/s  0:00:01\n",
            "Downloading joblib-1.5.2-py3-none-any.whl (308 kB)\n",
            "Downloading threadpoolctl-3.6.0-py3-none-any.whl (18 kB)\n",
            "Installing collected packages: threadpoolctl, joblib, scikit-learn\n",
            "\n",
            "   ------------- -------------------------- 1/3 [joblib]\n",
            "   ------------- -------------------------- 1/3 [joblib]\n",
            "   ------------- -------------------------- 1/3 [joblib]\n",
            "   ------------- -------------------------- 1/3 [joblib]\n",
            "   ------------- -------------------------- 1/3 [joblib]\n",
            "   ------------- -------------------------- 1/3 [joblib]\n",
            "   ------------- -------------------------- 1/3 [joblib]\n",
            "   ------------- -------------------------- 1/3 [joblib]\n",
            "   ------------- -------------------------- 1/3 [joblib]\n",
            "   ------------- -------------------------- 1/3 [joblib]\n",
            "   -------------------------- ------------- 2/3 [scikit-learn]\n",
            "   -------------------------- ------------- 2/3 [scikit-learn]\n",
            "   -------------------------- ------------- 2/3 [scikit-learn]\n",
            "   -------------------------- ------------- 2/3 [scikit-learn]\n",
            "   -------------------------- ------------- 2/3 [scikit-learn]\n",
            "   -------------------------- ------------- 2/3 [scikit-learn]\n",
            "   -------------------------- ------------- 2/3 [scikit-learn]\n",
            "   -------------------------- ------------- 2/3 [scikit-learn]\n",
            "   -------------------------- ------------- 2/3 [scikit-learn]\n",
            "   -------------------------- ------------- 2/3 [scikit-learn]\n",
            "   -------------------------- ------------- 2/3 [scikit-learn]\n",
            "   -------------------------- ------------- 2/3 [scikit-learn]\n",
            "   -------------------------- ------------- 2/3 [scikit-learn]\n",
            "   -------------------------- ------------- 2/3 [scikit-learn]\n",
            "   -------------------------- ------------- 2/3 [scikit-learn]\n",
            "   -------------------------- ------------- 2/3 [scikit-learn]\n",
            "   -------------------------- ------------- 2/3 [scikit-learn]\n",
            "   -------------------------- ------------- 2/3 [scikit-learn]\n",
            "   -------------------------- ------------- 2/3 [scikit-learn]\n",
            "   -------------------------- ------------- 2/3 [scikit-learn]\n",
            "   -------------------------- ------------- 2/3 [scikit-learn]\n",
            "   -------------------------- ------------- 2/3 [scikit-learn]\n",
            "   -------------------------- ------------- 2/3 [scikit-learn]\n",
            "   -------------------------- ------------- 2/3 [scikit-learn]\n",
            "   -------------------------- ------------- 2/3 [scikit-learn]\n",
            "   -------------------------- ------------- 2/3 [scikit-learn]\n",
            "   -------------------------- ------------- 2/3 [scikit-learn]\n",
            "   -------------------------- ------------- 2/3 [scikit-learn]\n",
            "   -------------------------- ------------- 2/3 [scikit-learn]\n",
            "   -------------------------- ------------- 2/3 [scikit-learn]\n",
            "   -------------------------- ------------- 2/3 [scikit-learn]\n",
            "   -------------------------- ------------- 2/3 [scikit-learn]\n",
            "   -------------------------- ------------- 2/3 [scikit-learn]\n",
            "   -------------------------- ------------- 2/3 [scikit-learn]\n",
            "   -------------------------- ------------- 2/3 [scikit-learn]\n",
            "   -------------------------- ------------- 2/3 [scikit-learn]\n",
            "   -------------------------- ------------- 2/3 [scikit-learn]\n",
            "   -------------------------- ------------- 2/3 [scikit-learn]\n",
            "   -------------------------- ------------- 2/3 [scikit-learn]\n",
            "   -------------------------- ------------- 2/3 [scikit-learn]\n",
            "   -------------------------- ------------- 2/3 [scikit-learn]\n",
            "   -------------------------- ------------- 2/3 [scikit-learn]\n",
            "   -------------------------- ------------- 2/3 [scikit-learn]\n",
            "   -------------------------- ------------- 2/3 [scikit-learn]\n",
            "   -------------------------- ------------- 2/3 [scikit-learn]\n",
            "   -------------------------- ------------- 2/3 [scikit-learn]\n",
            "   -------------------------- ------------- 2/3 [scikit-learn]\n",
            "   -------------------------- ------------- 2/3 [scikit-learn]\n",
            "   -------------------------- ------------- 2/3 [scikit-learn]\n",
            "   -------------------------- ------------- 2/3 [scikit-learn]\n",
            "   -------------------------- ------------- 2/3 [scikit-learn]\n",
            "   -------------------------- ------------- 2/3 [scikit-learn]\n",
            "   -------------------------- ------------- 2/3 [scikit-learn]\n",
            "   -------------------------- ------------- 2/3 [scikit-learn]\n",
            "   -------------------------- ------------- 2/3 [scikit-learn]\n",
            "   -------------------------- ------------- 2/3 [scikit-learn]\n",
            "   -------------------------- ------------- 2/3 [scikit-learn]\n",
            "   -------------------------- ------------- 2/3 [scikit-learn]\n",
            "   -------------------------- ------------- 2/3 [scikit-learn]\n",
            "   -------------------------- ------------- 2/3 [scikit-learn]\n",
            "   -------------------------- ------------- 2/3 [scikit-learn]\n",
            "   -------------------------- ------------- 2/3 [scikit-learn]\n",
            "   -------------------------- ------------- 2/3 [scikit-learn]\n",
            "   -------------------------- ------------- 2/3 [scikit-learn]\n",
            "   -------------------------- ------------- 2/3 [scikit-learn]\n",
            "   -------------------------- ------------- 2/3 [scikit-learn]\n",
            "   -------------------------- ------------- 2/3 [scikit-learn]\n",
            "   -------------------------- ------------- 2/3 [scikit-learn]\n",
            "   -------------------------- ------------- 2/3 [scikit-learn]\n",
            "   -------------------------- ------------- 2/3 [scikit-learn]\n",
            "   -------------------------- ------------- 2/3 [scikit-learn]\n",
            "   -------------------------- ------------- 2/3 [scikit-learn]\n",
            "   -------------------------- ------------- 2/3 [scikit-learn]\n",
            "   -------------------------- ------------- 2/3 [scikit-learn]\n",
            "   ---------------------------------------- 3/3 [scikit-learn]\n",
            "\n",
            "Successfully installed joblib-1.5.2 scikit-learn-1.7.2 threadpoolctl-3.6.0\n"
          ]
        }
      ],
      "source": [
        "!pip install -U scikit-learn\n"
      ]
    },
    {
      "cell_type": "code",
      "execution_count": 4,
      "metadata": {},
      "outputs": [
        {
          "ename": "ModuleNotFoundError",
          "evalue": "No module named 'sklearn'",
          "output_type": "error",
          "traceback": [
            "\u001b[31m---------------------------------------------------------------------------\u001b[39m",
            "\u001b[31mModuleNotFoundError\u001b[39m                       Traceback (most recent call last)",
            "\u001b[36mCell\u001b[39m\u001b[36m \u001b[39m\u001b[32mIn[4]\u001b[39m\u001b[32m, line 10\u001b[39m\n\u001b[32m      7\u001b[39m \u001b[38;5;28;01mimport\u001b[39;00m\u001b[38;5;250m \u001b[39m\u001b[34;01mmatplotlib\u001b[39;00m\u001b[34;01m.\u001b[39;00m\u001b[34;01mpyplot\u001b[39;00m\u001b[38;5;250m \u001b[39m\u001b[38;5;28;01mas\u001b[39;00m\u001b[38;5;250m \u001b[39m\u001b[34;01mplt\u001b[39;00m\n\u001b[32m      9\u001b[39m \u001b[38;5;66;03m# Preprocessing and Machine Learning\u001b[39;00m\n\u001b[32m---> \u001b[39m\u001b[32m10\u001b[39m \u001b[38;5;28;01mfrom\u001b[39;00m\u001b[38;5;250m \u001b[39m\u001b[34;01msklearn\u001b[39;00m\u001b[34;01m.\u001b[39;00m\u001b[34;01mmodel_selection\u001b[39;00m\u001b[38;5;250m \u001b[39m\u001b[38;5;28;01mimport\u001b[39;00m train_test_split, GridSearchCV\n\u001b[32m     11\u001b[39m \u001b[38;5;28;01mfrom\u001b[39;00m\u001b[38;5;250m \u001b[39m\u001b[34;01msklearn\u001b[39;00m\u001b[34;01m.\u001b[39;00m\u001b[34;01mpreprocessing\u001b[39;00m\u001b[38;5;250m \u001b[39m\u001b[38;5;28;01mimport\u001b[39;00m StandardScaler\n\u001b[32m     12\u001b[39m \u001b[38;5;28;01mfrom\u001b[39;00m\u001b[38;5;250m \u001b[39m\u001b[34;01msklearn\u001b[39;00m\u001b[34;01m.\u001b[39;00m\u001b[34;01mfeature_extraction\u001b[39;00m\u001b[34;01m.\u001b[39;00m\u001b[34;01mtext\u001b[39;00m\u001b[38;5;250m \u001b[39m\u001b[38;5;28;01mimport\u001b[39;00m TfidfVectorizer\n",
            "\u001b[31mModuleNotFoundError\u001b[39m: No module named 'sklearn'"
          ]
        }
      ],
      "source": [
        "# Data manipulation and visualization\n",
        "import re\n",
        "import pandas as pd\n",
        "import numpy as np\n",
        "import unicodedata\n",
        "import seaborn as sns\n",
        "import matplotlib.pyplot as plt\n",
        "\n",
        "# Preprocessing and Machine Learning\n",
        "from sklearn.model_selection import train_test_split, GridSearchCV\n",
        "from sklearn.preprocessing import StandardScaler\n",
        "from sklearn.feature_extraction.text import TfidfVectorizer\n",
        "from sklearn.linear_model import LogisticRegression\n",
        "from sklearn.pipeline import Pipeline\n",
        "from sklearn.metrics import accuracy_score, classification_report, confusion_matrix\n",
        "import joblib\n"
      ]
    }
  ],
  "metadata": {
    "kernelspec": {
      "display_name": "Python 3",
      "language": "python",
      "name": "python3"
    },
    "language_info": {
      "codemirror_mode": {
        "name": "ipython",
        "version": 3
      },
      "file_extension": ".py",
      "mimetype": "text/x-python",
      "name": "python",
      "nbconvert_exporter": "python",
      "pygments_lexer": "ipython3",
      "version": "3.11.9"
    }
  },
  "nbformat": 4,
  "nbformat_minor": 2
}
