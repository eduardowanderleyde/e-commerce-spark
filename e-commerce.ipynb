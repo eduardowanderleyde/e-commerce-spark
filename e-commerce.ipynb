{
  "cells": [
    {
      "cell_type": "markdown",
      "metadata": {},
      "source": [
        "## 1. Definition of the Business Problem"
      ]
    },
    {
      "cell_type": "markdown",
      "metadata": {},
      "source": [
        "This is the foundation of the project. In this stage, we translate a company’s need into a clear objective for Data Science. We define what we want to solve (for example, automating the classification of product reviews), why it is important (to reduce costs, speed up decision-making), and how success will be measured.\n",
        "\n",
        "### Definition\n",
        "\n",
        "An e-commerce company wants to automate the analysis of customer feedback. Currently, the analysis is done manually, which is a slow, expensive process that doesn’t scale with the increasing volume of reviews received daily.\n",
        "\n",
        "### Objective\n",
        "\n",
        "Build a Machine Learning model that automatically classifies product reviews as ‘positive’ or ‘negative’.\n",
        "\n",
        "### Expected Benefits\n",
        "\n",
        "Efficiency: Reduce the time and cost of feedback analysis.\n",
        "\n",
        "Fast Decision-Making: Allow product and marketing teams to quickly identify products with issues or opportunities for improvement.\n",
        "\n",
        "Prioritization: Direct negative reviews to the customer support team with higher priority, improving the overall customer experience."
      ]
    },
    {
      "cell_type": "markdown",
      "metadata": {},
      "source": [
        "## 2. Importing the Packages"
      ]
    },
    {
      "cell_type": "code",
      "execution_count": 3,
      "metadata": {},
      "outputs": [],
      "source": [
        "# Install watermark package\n",
        "!pip install -q -U watermark"
      ]
    },
    {
      "cell_type": "code",
      "execution_count": 4,
      "metadata": {},
      "outputs": [
        {
          "name": "stdout",
          "output_type": "stream",
          "text": [
            "Requirement already satisfied: scikit-learn in c:\\users\\eduardo\\appdata\\local\\packages\\pythonsoftwarefoundation.python.3.11_qbz5n2kfra8p0\\localcache\\local-packages\\python311\\site-packages (1.7.2)\n",
            "Requirement already satisfied: numpy>=1.22.0 in c:\\users\\eduardo\\appdata\\local\\packages\\pythonsoftwarefoundation.python.3.11_qbz5n2kfra8p0\\localcache\\local-packages\\python311\\site-packages (from scikit-learn) (2.3.4)\n",
            "Requirement already satisfied: scipy>=1.8.0 in c:\\users\\eduardo\\appdata\\local\\packages\\pythonsoftwarefoundation.python.3.11_qbz5n2kfra8p0\\localcache\\local-packages\\python311\\site-packages (from scikit-learn) (1.16.2)\n",
            "Requirement already satisfied: joblib>=1.2.0 in c:\\users\\eduardo\\appdata\\local\\packages\\pythonsoftwarefoundation.python.3.11_qbz5n2kfra8p0\\localcache\\local-packages\\python311\\site-packages (from scikit-learn) (1.5.2)\n",
            "Requirement already satisfied: threadpoolctl>=3.1.0 in c:\\users\\eduardo\\appdata\\local\\packages\\pythonsoftwarefoundation.python.3.11_qbz5n2kfra8p0\\localcache\\local-packages\\python311\\site-packages (from scikit-learn) (3.6.0)\n"
          ]
        }
      ],
      "source": [
        "!pip install -U scikit-learn\n"
      ]
    },
    {
      "cell_type": "code",
      "execution_count": 12,
      "metadata": {},
      "outputs": [],
      "source": [
        "# Data manipulation and visualization\n",
        "import re\n",
        "import pandas as pd\n",
        "import numpy as np\n",
        "import unicodedata\n",
        "import seaborn as sns\n",
        "import matplotlib.pyplot as plt\n",
        "\n",
        "# Preprocessing and Machine Learning\n",
        "from sklearn.model_selection import train_test_split, GridSearchCV\n",
        "from sklearn.preprocessing import StandardScaler\n",
        "from sklearn.feature_extraction.text import TfidfVectorizer\n",
        "from sklearn.linear_model import LogisticRegression\n",
        "from sklearn.pipeline import Pipeline\n",
        "from sklearn.metrics import accuracy_score, classification_report, confusion_matrix\n",
        "import joblib\n"
      ]
    },
    {
      "cell_type": "code",
      "execution_count": 6,
      "metadata": {},
      "outputs": [],
      "source": [
        "# View Configuration\n",
        "sns.set_style('whitegrid')\n",
        "%matplotlib inline"
      ]
    },
    {
      "cell_type": "code",
      "execution_count": 7,
      "metadata": {},
      "outputs": [
        {
          "name": "stdout",
          "output_type": "stream",
          "text": [
            "Author: Eduardo Data Science\n",
            "\n"
          ]
        }
      ],
      "source": [
        "%reload_ext watermark\n",
        "%watermark -a \"Eduardo Data Science\""
      ]
    },
    {
      "cell_type": "code",
      "execution_count": 8,
      "metadata": {},
      "outputs": [
        {
          "name": "stdout",
          "output_type": "stream",
          "text": [
            "joblib    : 1.5.2\n",
            "seaborn   : 0.13.2\n",
            "numpy     : 2.3.4\n",
            "sklearn   : 1.7.2\n",
            "matplotlib: 3.10.7\n",
            "re        : 2.2.1\n",
            "pandas    : 2.3.1\n",
            "\n"
          ]
        }
      ],
      "source": [
        "%watermark --iversions"
      ]
    },
    {
      "cell_type": "markdown",
      "metadata": {},
      "source": [
        "# Loading and Undestanding dataset"
      ]
    },
    {
      "cell_type": "code",
      "execution_count": 16,
      "metadata": {},
      "outputs": [],
      "source": [
        "dataset = 'sentiment.csv'"
      ]
    },
    {
      "cell_type": "code",
      "execution_count": 22,
      "metadata": {},
      "outputs": [
        {
          "name": "stderr",
          "output_type": "stream",
          "text": [
            "C:\\Users\\Eduardo\\AppData\\Local\\Temp\\ipykernel_2868\\3137060405.py:2: DtypeWarning: Columns (1,2) have mixed types. Specify dtype option on import or set low_memory=False.\n",
            "  df_dse = pd.read_csv(dataset, encoding=\"latin-1\")\n"
          ]
        }
      ],
      "source": [
        "# Loading and understanding data\n",
        "df_dse = pd.read_csv(dataset, encoding=\"latin-1\")"
      ]
    },
    {
      "cell_type": "code",
      "execution_count": 23,
      "metadata": {},
      "outputs": [
        {
          "data": {
            "text/plain": [
              "(171380, 6)"
            ]
          },
          "execution_count": 23,
          "metadata": {},
          "output_type": "execute_result"
        }
      ],
      "source": [
        "# Shape\n",
        "df_dse.shape"
      ]
    },
    {
      "cell_type": "markdown",
      "metadata": {},
      "source": [
        "significa que:\n",
        "-171.380 linhas → cada linha é um registro.\n",
        "-6 colunas → são as variáveis que descrevem cada review."
      ]
    },
    {
      "cell_type": "code",
      "execution_count": 24,
      "metadata": {},
      "outputs": [
        {
          "data": {
            "text/html": [
              "<div>\n",
              "<style scoped>\n",
              "    .dataframe tbody tr th:only-of-type {\n",
              "        vertical-align: middle;\n",
              "    }\n",
              "\n",
              "    .dataframe tbody tr th {\n",
              "        vertical-align: top;\n",
              "    }\n",
              "\n",
              "    .dataframe thead th {\n",
              "        text-align: right;\n",
              "    }\n",
              "</style>\n",
              "<table border=\"1\" class=\"dataframe\">\n",
              "  <thead>\n",
              "    <tr style=\"text-align: right;\">\n",
              "      <th></th>\n",
              "      <th>ProductName</th>\n",
              "      <th>ProductPrice</th>\n",
              "      <th>Rate</th>\n",
              "      <th>Review</th>\n",
              "      <th>Summary</th>\n",
              "      <th>Sentiment</th>\n",
              "    </tr>\n",
              "  </thead>\n",
              "  <tbody>\n",
              "    <tr>\n",
              "      <th>0</th>\n",
              "      <td>Candes 12 L Room/Personal Air Cooler??????(Whi...</td>\n",
              "      <td>3999</td>\n",
              "      <td>5</td>\n",
              "      <td>Super!</td>\n",
              "      <td>great cooler excellent air flow and for this p...</td>\n",
              "      <td>positive</td>\n",
              "    </tr>\n",
              "    <tr>\n",
              "      <th>1</th>\n",
              "      <td>Candes 12 L Room/Personal Air Cooler??????(Whi...</td>\n",
              "      <td>3999</td>\n",
              "      <td>5</td>\n",
              "      <td>Awesome</td>\n",
              "      <td>best budget 2 fit cooler nice cooling</td>\n",
              "      <td>positive</td>\n",
              "    </tr>\n",
              "    <tr>\n",
              "      <th>2</th>\n",
              "      <td>Candes 12 L Room/Personal Air Cooler??????(Whi...</td>\n",
              "      <td>3999</td>\n",
              "      <td>3</td>\n",
              "      <td>Fair</td>\n",
              "      <td>the quality is good but the power of air is de...</td>\n",
              "      <td>positive</td>\n",
              "    </tr>\n",
              "    <tr>\n",
              "      <th>3</th>\n",
              "      <td>Candes 12 L Room/Personal Air Cooler??????(Whi...</td>\n",
              "      <td>3999</td>\n",
              "      <td>1</td>\n",
              "      <td>Useless product</td>\n",
              "      <td>very bad product its a only a fan</td>\n",
              "      <td>negative</td>\n",
              "    </tr>\n",
              "    <tr>\n",
              "      <th>4</th>\n",
              "      <td>Candes 12 L Room/Personal Air Cooler??????(Whi...</td>\n",
              "      <td>3999</td>\n",
              "      <td>3</td>\n",
              "      <td>Fair</td>\n",
              "      <td>ok ok product</td>\n",
              "      <td>neutral</td>\n",
              "    </tr>\n",
              "  </tbody>\n",
              "</table>\n",
              "</div>"
            ],
            "text/plain": [
              "                                         ProductName ProductPrice Rate  \\\n",
              "0  Candes 12 L Room/Personal Air Cooler??????(Whi...         3999    5   \n",
              "1  Candes 12 L Room/Personal Air Cooler??????(Whi...         3999    5   \n",
              "2  Candes 12 L Room/Personal Air Cooler??????(Whi...         3999    3   \n",
              "3  Candes 12 L Room/Personal Air Cooler??????(Whi...         3999    1   \n",
              "4  Candes 12 L Room/Personal Air Cooler??????(Whi...         3999    3   \n",
              "\n",
              "            Review                                            Summary  \\\n",
              "0           Super!  great cooler excellent air flow and for this p...   \n",
              "1          Awesome              best budget 2 fit cooler nice cooling   \n",
              "2             Fair  the quality is good but the power of air is de...   \n",
              "3  Useless product                  very bad product its a only a fan   \n",
              "4             Fair                                      ok ok product   \n",
              "\n",
              "  Sentiment  \n",
              "0  positive  \n",
              "1  positive  \n",
              "2  positive  \n",
              "3  negative  \n",
              "4   neutral  "
            ]
          },
          "execution_count": 24,
          "metadata": {},
          "output_type": "execute_result"
        }
      ],
      "source": [
        "# First lines\n",
        "df_dse.head()"
      ]
    },
    {
      "cell_type": "markdown",
      "metadata": {},
      "source": [
        "ProductPrice and Rate are numeric, the rest is text"
      ]
    },
    {
      "cell_type": "markdown",
      "metadata": {},
      "source": [
        "Text pattern Some reviews have short words (“Super!”, “Nice”), others long sentences — preprocessing will need to normalize this"
      ]
    },
    {
      "cell_type": "code",
      "execution_count": 30,
      "metadata": {},
      "outputs": [
        {
          "data": {
            "text/html": [
              "<div>\n",
              "<style scoped>\n",
              "    .dataframe tbody tr th:only-of-type {\n",
              "        vertical-align: middle;\n",
              "    }\n",
              "\n",
              "    .dataframe tbody tr th {\n",
              "        vertical-align: top;\n",
              "    }\n",
              "\n",
              "    .dataframe thead th {\n",
              "        text-align: right;\n",
              "    }\n",
              "</style>\n",
              "<table border=\"1\" class=\"dataframe\">\n",
              "  <thead>\n",
              "    <tr style=\"text-align: right;\">\n",
              "      <th></th>\n",
              "      <th>ProductName</th>\n",
              "      <th>ProductPrice</th>\n",
              "      <th>Rate</th>\n",
              "      <th>Review</th>\n",
              "      <th>Summary</th>\n",
              "      <th>Sentiment</th>\n",
              "    </tr>\n",
              "  </thead>\n",
              "  <tbody>\n",
              "    <tr>\n",
              "      <th>136341</th>\n",
              "      <td>HP 680 Black Ink Cartridge</td>\n",
              "      <td>852.0</td>\n",
              "      <td>5.0</td>\n",
              "      <td>Brilliant</td>\n",
              "      <td>good</td>\n",
              "      <td>positive</td>\n",
              "    </tr>\n",
              "    <tr>\n",
              "      <th>108945</th>\n",
              "      <td>NIVIA Storm Football - Size: 5ÃÂÃÂ®ÃÂÃÂ ...</td>\n",
              "      <td>429</td>\n",
              "      <td>5</td>\n",
              "      <td>Mind-blowing purchase</td>\n",
              "      <td>very nice product</td>\n",
              "      <td>positive</td>\n",
              "    </tr>\n",
              "    <tr>\n",
              "      <th>110595</th>\n",
              "      <td>Men Black Sandal</td>\n",
              "      <td>299</td>\n",
              "      <td>1</td>\n",
              "      <td>Nan</td>\n",
              "      <td>with in two days it s got damaged</td>\n",
              "      <td>negative</td>\n",
              "    </tr>\n",
              "    <tr>\n",
              "      <th>169138</th>\n",
              "      <td>KENT Ace 8 L RO  UV  UF  TDS Water Purifier wi...</td>\n",
              "      <td>14299.0</td>\n",
              "      <td>3.0</td>\n",
              "      <td>Does the job</td>\n",
              "      <td>product is spurb installation guy has charge 1...</td>\n",
              "      <td>negative</td>\n",
              "    </tr>\n",
              "    <tr>\n",
              "      <th>72937</th>\n",
              "      <td>Crompton 75 L Desert Air Cooler??????????(Whit...</td>\n",
              "      <td>10499</td>\n",
              "      <td>1</td>\n",
              "      <td>don't waste your money</td>\n",
              "      <td>bad product do not purchase this this is so ba...</td>\n",
              "      <td>negative</td>\n",
              "    </tr>\n",
              "    <tr>\n",
              "      <th>133004</th>\n",
              "      <td>MarQ by Flipkart 18-Litre 18L1200W4HL Oven Toa...</td>\n",
              "      <td>2499.0</td>\n",
              "      <td>5.0</td>\n",
              "      <td>Terrific</td>\n",
              "      <td>awesome</td>\n",
              "      <td>positive</td>\n",
              "    </tr>\n",
              "    <tr>\n",
              "      <th>20792</th>\n",
              "      <td>Atomberg Renesa 1200 mm BLDC Motor with Remote...</td>\n",
              "      <td>3569</td>\n",
              "      <td>5</td>\n",
              "      <td>Fabulous!</td>\n",
              "      <td>good speed n unique look with remote</td>\n",
              "      <td>positive</td>\n",
              "    </tr>\n",
              "    <tr>\n",
              "      <th>163527</th>\n",
              "      <td>MOTOROLA 8 kg Smart Wi-Fi Enabled Inverter Tec...</td>\n",
              "      <td>16990.0</td>\n",
              "      <td>5.0</td>\n",
              "      <td>Excellent</td>\n",
              "      <td>good</td>\n",
              "      <td>positive</td>\n",
              "    </tr>\n",
              "    <tr>\n",
              "      <th>104885</th>\n",
              "      <td>Urban Terrain Denver with Complete Accessories...</td>\n",
              "      <td>6719</td>\n",
              "      <td>5</td>\n",
              "      <td>Perfect product!</td>\n",
              "      <td>really nice to have thing</td>\n",
              "      <td>positive</td>\n",
              "    </tr>\n",
              "    <tr>\n",
              "      <th>24200</th>\n",
              "      <td>PHILIPS HR7627/00 650 W Food Processor????????...</td>\n",
              "      <td>4319</td>\n",
              "      <td>1</td>\n",
              "      <td>Unsatisfactory</td>\n",
              "      <td>ridiculous my return request was delayed and i...</td>\n",
              "      <td>negative</td>\n",
              "    </tr>\n",
              "  </tbody>\n",
              "</table>\n",
              "</div>"
            ],
            "text/plain": [
              "                                              ProductName ProductPrice Rate  \\\n",
              "136341                         HP 680 Black Ink Cartridge        852.0  5.0   \n",
              "108945  NIVIA Storm Football - Size: 5ÃÂÃÂ®ÃÂÃÂ ...          429    5   \n",
              "110595                                   Men Black Sandal          299    1   \n",
              "169138  KENT Ace 8 L RO  UV  UF  TDS Water Purifier wi...      14299.0  3.0   \n",
              "72937   Crompton 75 L Desert Air Cooler??????????(Whit...        10499    1   \n",
              "133004  MarQ by Flipkart 18-Litre 18L1200W4HL Oven Toa...       2499.0  5.0   \n",
              "20792   Atomberg Renesa 1200 mm BLDC Motor with Remote...         3569    5   \n",
              "163527  MOTOROLA 8 kg Smart Wi-Fi Enabled Inverter Tec...      16990.0  5.0   \n",
              "104885  Urban Terrain Denver with Complete Accessories...         6719    5   \n",
              "24200   PHILIPS HR7627/00 650 W Food Processor????????...         4319    1   \n",
              "\n",
              "                        Review  \\\n",
              "136341               Brilliant   \n",
              "108945   Mind-blowing purchase   \n",
              "110595                     Nan   \n",
              "169138            Does the job   \n",
              "72937   don't waste your money   \n",
              "133004                Terrific   \n",
              "20792                Fabulous!   \n",
              "163527               Excellent   \n",
              "104885        Perfect product!   \n",
              "24200           Unsatisfactory   \n",
              "\n",
              "                                                  Summary Sentiment  \n",
              "136341                                               good  positive  \n",
              "108945                                  very nice product  positive  \n",
              "110595                  with in two days it s got damaged  negative  \n",
              "169138  product is spurb installation guy has charge 1...  negative  \n",
              "72937   bad product do not purchase this this is so ba...  negative  \n",
              "133004                                            awesome  positive  \n",
              "20792               good speed n unique look with remote   positive  \n",
              "163527                                               good  positive  \n",
              "104885                          really nice to have thing  positive  \n",
              "24200   ridiculous my return request was delayed and i...  negative  "
            ]
          },
          "execution_count": 30,
          "metadata": {},
          "output_type": "execute_result"
        }
      ],
      "source": [
        "# sample dataset\n",
        "df_dse.sample(10)"
      ]
    },
    {
      "cell_type": "markdown",
      "metadata": {},
      "source": [
        "### 4. Exploratory Data Analysis (EDA)"
      ]
    },
    {
      "cell_type": "code",
      "execution_count": 32,
      "metadata": {},
      "outputs": [
        {
          "name": "stdout",
          "output_type": "stream",
          "text": [
            "<class 'pandas.core.frame.DataFrame'>\n",
            "RangeIndex: 171380 entries, 0 to 171379\n",
            "Data columns (total 6 columns):\n",
            " #   Column        Non-Null Count   Dtype \n",
            "---  ------        --------------   ----- \n",
            " 0   ProductName   171380 non-null  object\n",
            " 1   ProductPrice  171379 non-null  object\n",
            " 2   Rate          171379 non-null  object\n",
            " 3   Review        171379 non-null  object\n",
            " 4   Summary       171379 non-null  object\n",
            " 5   Sentiment     171379 non-null  object\n",
            "dtypes: object(6)\n",
            "memory usage: 7.8+ MB\n"
          ]
        }
      ],
      "source": [
        "# Info\n",
        "df_dse.info()"
      ]
    },
    {
      "cell_type": "markdown",
      "metadata": {},
      "source": [
        "-Data type: all object (i.e. text/string)\n",
        "\n",
        "-Tipo de dados: todos os objetos (por exemplo, texto/string)"
      ]
    },
    {
      "cell_type": "code",
      "execution_count": 34,
      "metadata": {},
      "outputs": [
        {
          "name": "stdout",
          "output_type": "stream",
          "text": [
            "\n",
            "Checking for missing values:\n",
            "\n",
            "ProductName     0\n",
            "ProductPrice    1\n",
            "Rate            1\n",
            "Review          1\n",
            "Summary         1\n",
            "Sentiment       1\n",
            "dtype: int64\n"
          ]
        }
      ],
      "source": [
        "print(\"\\nChecking for missing values:\\n\")\n",
        "print(df_dse.isnull().sum())"
      ]
    },
    {
      "cell_type": "code",
      "execution_count": 37,
      "metadata": {},
      "outputs": [
        {
          "name": "stdout",
          "output_type": "stream",
          "text": [
            "\n",
            "Distribution of Feelings:\n",
            "\n"
          ]
        },
        {
          "data": {
            "image/png": "[encoded data removed]",
            "text/plain": [
              "<Figure size 640x480 with 1 Axes>"
            ]
          },
          "metadata": {},
          "output_type": "display_data"
        }
      ],
      "source": [
        "print(\"\\nDistribution of Feelings:\\n\")\n",
        "sns.countplot(x='Sentiment', data=df_dse)\n",
        "plt.title('Distribution of Sentiment Classes')\n",
        "plt.show()\n"
      ]
    }
  ],
  "metadata": {
    "kernelspec": {
      "display_name": "Python 3",
      "language": "python",
      "name": "python3"
    },
    "language_info": {
      "codemirror_mode": {
        "name": "ipython",
        "version": 3
      },
      "file_extension": ".py",
      "mimetype": "text/x-python",
      "name": "python",
      "nbconvert_exporter": "python",
      "pygments_lexer": "ipython3",
      "version": "3.11.9"
    }
  },
  "nbformat": 4,
  "nbformat_minor": 2
}
